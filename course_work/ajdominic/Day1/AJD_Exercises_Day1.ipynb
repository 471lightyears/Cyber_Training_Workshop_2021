{
 "cells": [
  {
   "cell_type": "markdown",
   "id": "7744d7b5",
   "metadata": {},
   "source": [
    "# Contents\n",
    "1. $f(x) = Ax^n$\n",
    "2. $f(x) = \\exp(x)$ truncated at degree $n$\n",
    "3. Function that computes the force that arises from the harmonic potential.\n",
    "4. Euler integration scheme utilizing a) loops; b) vectorization\n",
    "5. Verlet/Leapfrog integration scheme\n",
    "6. Runge-Kutta integration scheme\n",
    "7. Simpson's rule for computing integrals"
   ]
  },
  {
   "cell_type": "code",
   "execution_count": 1,
   "id": "f7a8e19f",
   "metadata": {},
   "outputs": [],
   "source": [
    "import h5py\n",
    "import numpy as np\n",
    "from math import factorial"
   ]
  },
  {
   "cell_type": "markdown",
   "id": "736e30b1",
   "metadata": {},
   "source": [
    "# Function that computes $$f(x) = Ax^n.$$"
   ]
  },
  {
   "cell_type": "code",
   "execution_count": 2,
   "id": "5b298c28",
   "metadata": {},
   "outputs": [],
   "source": [
    "def Ax_n(parms):\n",
    "    \"\"\"\n",
    "    Inputs:\n",
    "    1. parms - a dictionary containing the coefficient, A, the value of x, and the integer exponent n\n",
    "    \n",
    "    Outputs:\n",
    "    1. returns the value of Ax^n\n",
    "    \"\"\"\n",
    "    \n",
    "    A = parms[\"A\"]\n",
    "    x = parms[\"x\"]\n",
    "    n = parms[\"n\"]\n",
    "    \n",
    "    if (n == 0):\n",
    "        return A\n",
    "    \n",
    "    elif (n > 0):\n",
    "        total = 1.0\n",
    "        ctr = 0\n",
    "        while (ctr < n):\n",
    "            total = total * x\n",
    "            ctr = ctr + 1\n",
    "            \n",
    "        return A * total\n",
    "    \n",
    "    else:\n",
    "        total = 1.0\n",
    "        ctr = 0\n",
    "        while (ctr < np.abs(n)):\n",
    "            total = total / x\n",
    "            ctr = ctr + 1\n",
    "            \n",
    "        return A * total"
   ]
  },
  {
   "cell_type": "code",
   "execution_count": 3,
   "id": "60e7f09e",
   "metadata": {},
   "outputs": [
    {
     "name": "stdout",
     "output_type": "stream",
     "text": [
      "10.0\n"
     ]
    }
   ],
   "source": [
    "# test\n",
    "parms = { \"A\":5.0, \"x\":2.0, \"n\":1 }\n",
    "print(Ax_n(parms))"
   ]
  },
  {
   "cell_type": "markdown",
   "id": "0d37580c",
   "metadata": {},
   "source": [
    "# Function that computes $$\\exp(x) \\approx 1 + x + \\frac{x^2}{2!} + \\cdots$$"
   ]
  },
  {
   "cell_type": "code",
   "execution_count": 4,
   "id": "3f586bcf",
   "metadata": {},
   "outputs": [],
   "source": [
    "def exp(params):\n",
    "    \"\"\"\n",
    "    Inputs:\n",
    "    1. params - a dictionary containing the specific value which we evaluate e^x at as well as the order to which\n",
    "                we would like to be accurate, n\n",
    "    \n",
    "    Outputs:\n",
    "    1. returns the value of e^x\n",
    "    \"\"\"\n",
    "    # first make sure that the order is sensible\n",
    "    n = params[\"order\"]\n",
    "    if (n < 0):\n",
    "        return \"Invalid entry, please enter nonnegative orders.\"\n",
    "    \n",
    "    # compute e^x\n",
    "    else:\n",
    "        x = params[\"x\"]\n",
    "        total = 0.0\n",
    "        \n",
    "        # the part that actually does the computation, using the function above, Ax^n\n",
    "        for i in range(n):\n",
    "            temp = Ax_n({ \"A\":1.0, \"x\":x, \"n\":i }) / factorial(i)\n",
    "            total = total + temp\n",
    "            \n",
    "        return total"
   ]
  },
  {
   "cell_type": "code",
   "execution_count": 29,
   "id": "c6e2529b",
   "metadata": {},
   "outputs": [
    {
     "name": "stdout",
     "output_type": "stream",
     "text": [
      "13.0\n"
     ]
    }
   ],
   "source": [
    "# test\n",
    "params = {\"x\":3.0, \"order\":4}\n",
    "print(exp(params))"
   ]
  },
  {
   "cell_type": "markdown",
   "id": "e270c297",
   "metadata": {},
   "source": [
    "# Harmonic potential\n",
    "We will assume the force is derived from a harmonic potential in unless stated otherwise:\n",
    "\n",
    "\n",
    "\\begin{align*}\n",
    "    V(\\mathbf{q}) = \\dfrac{1}{2}\\sum_j k_j(q_j - q_{j,0})^2.\n",
    "\\end{align*}\n",
    "\n",
    "With this in mind, \n",
    "\n",
    "\\begin{align*}\n",
    "    F_j(t) = -\\dfrac{\\partial V}{\\partial q_j} = - k_j (q_j - q_{j,0}).\n",
    "\\end{align*}"
   ]
  },
  {
   "cell_type": "code",
   "execution_count": 38,
   "id": "0efbb1e9",
   "metadata": {},
   "outputs": [],
   "source": [
    "def get_force(q, params):\n",
    "    \"\"\"\n",
    "    Returns the force derived from a harmonic potential.\n",
    "    \n",
    "    Inputs:\n",
    "    1. q      - coordinates of the harmonic oscillator\n",
    "    2. params - dictionary with mass, equilibrium position, and force constant of the harmonic oscillator\n",
    "    \n",
    "    Outputs:\n",
    "    1. returns force\n",
    "    \"\"\"\n",
    "    \n",
    "    force_const = params[\"force_const\"]\n",
    "    equi_pos = params[\"q0\"]\n",
    "    \n",
    "    return - force_const * (q - equi_pos)"
   ]
  },
  {
   "cell_type": "markdown",
   "id": "9cd48928",
   "metadata": {},
   "source": [
    "# Euler Integration\n",
    "\n",
    "This integrator updates the positions and momenta of the selected degrees of freedom using the Euler Integration scheme:\n",
    "\n",
    "\\begin{align*}\n",
    "    q_k(t + \\Delta t) &= q_k(t) + \\dfrac{\\Delta t}{m_k} \\cdot p_k(t)\\\\\n",
    "    p_k(t + \\Delta t) &= p_k(t) + \\Delta t \\cdot F_k(t).\n",
    "\\end{align*}"
   ]
  },
  {
   "cell_type": "code",
   "execution_count": 43,
   "id": "7bfbf577",
   "metadata": {},
   "outputs": [],
   "source": [
    "# Used the RK4 tutorial as a guide to set up efficiently\n",
    "def euler_update(q, p, params, dt):\n",
    "    \"\"\"\n",
    "    Updates the positions and momenta of the harmonic oscillator using a for loop.\n",
    "    Inputs:\n",
    "    1. q      - coordinates of the harmonic oscillator\n",
    "    2. p      - momenta of the harmonic oscillator\n",
    "    3. params - dictionary with mass, equilibrium position, and force constant of the harmonic oscillator\n",
    "    4. dt     - time-step \n",
    "    \n",
    "    Outputs:\n",
    "    1. returns the updated positions and momenta \n",
    "    \"\"\"\n",
    "    force_const = params[\"force_const\"]\n",
    "    equi_pos = params[\"q0\"]\n",
    "    mass = params[\"mass\"]\n",
    "    ndof = len(q)\n",
    "    \n",
    "    for dof in range(ndof):\n",
    "        force = - force_const * (q[dof] - equi_pos)\n",
    "        q[dof] = q[dof] + (dt * p[dof] / mass)\n",
    "        p[dof] = p[dof] + (dt * force)\n",
    "        \n",
    "    return q, p"
   ]
  },
  {
   "cell_type": "code",
   "execution_count": 44,
   "id": "717215d8",
   "metadata": {},
   "outputs": [
    {
     "name": "stdout",
     "output_type": "stream",
     "text": [
      "(array([2., 2.]), array([0., 0.]))\n"
     ]
    }
   ],
   "source": [
    "# test\n",
    "a = np.array([1.0, 1.0])\n",
    "b = np.array([1.0, 1.0])\n",
    "euler_params = {\"force_const\":1.0, \"q0\": 0.0, \"mass\":1.0} # dictionary\n",
    "dt = 1.0\n",
    "print(euler_update(a, b, euler_params, dt))"
   ]
  },
  {
   "cell_type": "code",
   "execution_count": 45,
   "id": "e630dba4",
   "metadata": {},
   "outputs": [],
   "source": [
    "def euler_update_vectorized(q, p, params, dt):\n",
    "    \"\"\"\n",
    "    Updates the positions and momenta of the harmonic oscillator without direct loops.\n",
    "    Inputs:\n",
    "    1. q      - coordinates of the harmonic oscillator\n",
    "    2. p      - momenta of the harmonic oscillator\n",
    "    3. params - dictionary with mass, equilibrium position, and force constant of the harmonic oscillator\n",
    "    4. dt     - time-step \n",
    "    \n",
    "    Outputs:\n",
    "    1. returns the updated positions and momenta \n",
    "    \"\"\"\n",
    "    \n",
    "    mass = params[\"mass\"]\n",
    "    \n",
    "    force = get_force(q, params)\n",
    "    \n",
    "    q = q + (dt * p) / mass\n",
    "    p = p + (dt * force)\n",
    "    \n",
    "    return q, p"
   ]
  },
  {
   "cell_type": "code",
   "execution_count": 46,
   "id": "e8563101",
   "metadata": {},
   "outputs": [
    {
     "name": "stdout",
     "output_type": "stream",
     "text": [
      "(array([2., 2.]), array([0., 0.]))\n"
     ]
    }
   ],
   "source": [
    "# test\n",
    "a = np.array([1.0, 1.0])\n",
    "b = np.array([1.0, 1.0])\n",
    "euler_params = {\"force_const\":1.0, \"q0\": 0.0, \"mass\":1.0}\n",
    "dt = 1.0\n",
    "print(euler_update_vectorized(a, b, euler_params, dt))"
   ]
  },
  {
   "cell_type": "markdown",
   "id": "934695d3",
   "metadata": {},
   "source": [
    "# Verlet/Leapfrog Integration\n",
    "\n",
    "This integrator updates the positions and momenta of the selected degrees of freedom using the Verlet Integration scheme:\n",
    "\n",
    "\\begin{align*}\n",
    "    q_k(t + \\Delta t) &= 2q(t) - q(t - \\Delta t) + \\dfrac{2\\Delta t^2}{m}F(t)\\\\\n",
    "    p_k(t) &= \\dfrac{m}{2\\Delta t} [q(t + \\Delta t) - q(t - \\Delta t)].\n",
    "\\end{align*}"
   ]
  },
  {
   "cell_type": "code",
   "execution_count": 47,
   "id": "c86d2dc5",
   "metadata": {},
   "outputs": [],
   "source": [
    "def verlet_update(q_current, q_previous, params, dt):\n",
    "    \"\"\"\n",
    "    Updates the positions and momenta of the harmonic oscillator without direct loops.\n",
    "    \n",
    "    q(t + dt) = q(t) - q(t - dt) + (F(t) * dt^2)/m\n",
    "    p(t) = (q(t+dt) - q(t-dt))/(2mdt)\n",
    "    \n",
    "    Inputs:\n",
    "    1. q_current   - current coordinates of the harmonic oscillator, q(t)\n",
    "    2. q_previous  - previous coordinates of the harmonic oscillator, q(t - dt)\n",
    "    3. params      - dictionary with mass, equilibrium position, and force constant of the harmonic oscillator\n",
    "    4. dt          - time-step \n",
    "    \n",
    "    Outputs:\n",
    "    1. q_update  - the updated positions, q(t + dt)\n",
    "    2. q_current - the current positions q(t) in this pass will be the \"previous\" coordinates in the next pass\n",
    "    3. p         - the momenta p(t) (for tracking)\n",
    "    \"\"\"\n",
    "    \n",
    "    mass = params[\"mass\"]\n",
    "    ndof = len(q)\n",
    "    \n",
    "    # compute the force\n",
    "    force = get_force(q, params)\n",
    "    force = - force_const * (q - equi_pos)\n",
    "    \n",
    "    q_update = 2 * q_current - q_previous + (2 * (dt**2) * force) / mass\n",
    "    p = m * (q_update - q_previous) / (2 * dt)\n",
    "        \n",
    "    return q_update, q_current, p"
   ]
  },
  {
   "cell_type": "markdown",
   "id": "61bdcc96",
   "metadata": {},
   "source": [
    "# Runge-Kutta"
   ]
  },
  {
   "cell_type": "markdown",
   "id": "a6eeb194",
   "metadata": {},
   "source": [
    "# Simpson's Rule\n",
    "Let $f:[a,b]\\rightarrow \\mathbb{R}$ be a continuous function. We can divide the interval $[a,b]$ into $n$ partions in the following manner \n",
    "\\begin{align*}\n",
    "    a = x_0 < x_1 < x_2 < \\cdots < x_{n-1} < x_n = b.\n",
    "\\end{align*}\n",
    "We define $\\Delta x = (b-a)/n$ and construct the sequence $\\{S_n \\}$ defined by\n",
    "\\begin{align*}\n",
    "    S_n = \\dfrac{\\Delta x}{3} \\left[ f(x_0) + 4 f(x_1) + 2f(x_2) + 4 f(x_3) + \\cdots +2 f(x_{n-2}) + 4 f(x_{n-1}) + f(x_n) \\right].\n",
    "\\end{align*}\n",
    "Simpson's rule ultimately shows \n",
    "\\begin{align*}\n",
    "    \\lim_{n \\rightarrow \\infty} S_n = \\int_a^b f(x)\\, dx.\n",
    "\\end{align*}"
   ]
  },
  {
   "cell_type": "code",
   "execution_count": 2,
   "id": "f414f15c",
   "metadata": {},
   "outputs": [],
   "source": [
    "# assume function has been previously defined\n",
    "def f(x):\n",
    "    return -x**2 + 1\n",
    "\n",
    "def integrate_simpsons(func, params):\n",
    "    b = params[\"ub\"]\n",
    "    a = params[\"lb\"]\n",
    "    n = params[\"subintervals\"]\n",
    "    dx = (b - a) / n\n",
    "    \n",
    "    # intialize \n",
    "    array = np.zeros(n+1, float)\n",
    "    total = 0.0\n",
    "    for i in range(len(array)):\n",
    "        arg = a + (i * dx)\n",
    "        array[i] = f(arg)\n",
    "        \n",
    "        if (i == 0):\n",
    "            total = total + array[i]\n",
    "            \n",
    "        elif (i == (n-1)):\n",
    "        \n",
    "\n",
    "    \n",
    "    \n",
    "    \n",
    "    \n",
    "    return \n",
    "    \n",
    "   \n",
    "simpsons_params = {\"lb\":0, \"ub\":1, \"subintervals\": 10}\n"
   ]
  },
  {
   "cell_type": "code",
   "execution_count": null,
   "id": "dfb6f9a2",
   "metadata": {},
   "outputs": [],
   "source": []
  }
 ],
 "metadata": {
  "kernelspec": {
   "display_name": "Python 3.6 (libra-latest)",
   "language": "python",
   "name": "libra-plus"
  },
  "language_info": {
   "codemirror_mode": {
    "name": "ipython",
    "version": 3
   },
   "file_extension": ".py",
   "mimetype": "text/x-python",
   "name": "python",
   "nbconvert_exporter": "python",
   "pygments_lexer": "ipython3",
   "version": "3.6.13"
  }
 },
 "nbformat": 4,
 "nbformat_minor": 5
}
