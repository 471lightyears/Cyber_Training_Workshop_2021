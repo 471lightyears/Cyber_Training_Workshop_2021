{
 "cells": [
  {
   "cell_type": "markdown",
   "metadata": {},
   "source": [
    "# Step2 NBRA NA-MD with Quantum Espresso\n",
    "![image info](./thumb0.png)"
   ]
  },
  {
   "cell_type": "markdown",
   "metadata": {},
   "source": [
    "## Table of contents\n",
    "<a name=\"toc\"></a>\n",
    "1. [Importing Libra and other dependencies](#import)\n",
    "2. [Overview of required files](#required_files)\n",
    "3. [Adjustments to required files](#adjustments)  \n",
    "    3.1. [x0.scf.in](#pw_inp)  \n",
    "    3.2. [x0.exp.in](#exp_inp)  \n",
    "    3.3. [submit_templ.slm](#submit)  \n",
    "    3.4. [run_step2.py](#run_step2)  \n",
    "4. [Run step2 using Quantum Espresso](#driver)\n",
    "5. [Plotting step2 data](#plot_step2_data)  \n",
    "    5.1. [Read step2 data](#extract_step2)  \n",
    "    5.2. [Plot step2 data](#plot_step2)\n",
    "6. [References](#references)  \n",
    "\n",
    "### A. Learning objectives\n",
    "* To be able to prepare the required files for computing the vibronic Hamiltonian\n",
    "* To be able to understand the key parameters critical to the computation of the vibronic Hamiltonian\n",
    "* To analyze and plot the properties of the vibronic Hamiltonian, such as the time-dependent Kohn-Sham energies and the time-averaged nonadiabatic couplings\n",
    "\n",
    "### B. Use cases\n",
    "* [Constructing the vibronic Hamiltonian from the QE MD calculations](#adjustments)\n",
    "* [Reading the vibronic Hamiltonian data files to obtain its properties](#data_read)\n",
    "* [Compute the time-averaged nonadiabatic couplings of the vibronic Hamiltonian](#data_stat)\n",
    "* [Using matplotlib to visualize the properties of the vibronic Hamiltonian](#plot_step2)\n",
    "\n",
    "### C. Functions\n",
    "\n",
    "- `libra_py`\n",
    "  - `workflows`\n",
    "    -  `nbra`\n",
    "      - `step2`\n",
    "        - [`run`](#step2_run)\n",
    "  \n",
    "  - `QE_methods`\n",
    "    - [`out2inp`](#out2inp)\n",
    "\n",
    "  - `hpc_utils`\n",
    "    - [`distribute`](#distribute)\n",
    "\n",
    "  - `data_read`\n",
    "    - [`get_data_sets`](#data_read)\n",
    "\n",
    "  - `data_stat`\n",
    "    - [`cmat_stat2`](#data_stat)"
   ]
  },
  {
   "cell_type": "markdown",
   "metadata": {},
   "source": [
    "In this tutorial, we will be doing step2 of the NBRA NA-MD workflow. This tutorial is a direct continuation of step1 with Quantum Espresso. Just to quickly recap what has been done so far, we have computed a 100 fs molecular dynamics trajectory of rutile $TiO_2$ using the Quantum Espresso software package."
   ]
  },
  {
   "cell_type": "markdown",
   "metadata": {},
   "source": [
    "Now, we are going to reperform SCF calculations at each molecular geometry along the trajectory to obtain the wavefunctions for each timestep. These wavefunctions will be used to construct the vibronic hamiltonian. The computation of the vibronic Hamiltonian is as follows:\n",
    "\n",
    "$$\n",
    "\\Large H_{vibronic}(t) = \n",
    "\\left(\\begin{array}{cc} \n",
    "\\frac{E_{0}(t)+E_{0}(t+dt)}{2} & . . . & d_{0N}\\\\\n",
    ". . . &  & . . .\\\\\n",
    "d_{N0} & . . . & \\frac{E_{N}(t)+E_{N}(t+dt)}{2}\n",
    "\\end{array}\\right)\n",
    "$$\n",
    "\n",
    "Where $\\large d_{ij}$ is computed numerically accodring to the formulation of Hammes‐Schiffer and Tully $ ^1$:"
   ]
  },
  {
   "cell_type": "markdown",
   "metadata": {},
   "source": [
    "## 1. Importing Libra and other dependencies <a name=\"import\"></a>\n",
    "[Return to Table of contents](#toc)\n",
    "\n",
    "We begin by importing Libra and other dependencies that will be needed at a later time"
   ]
  },
  {
   "cell_type": "code",
   "execution_count": 82,
   "metadata": {},
   "outputs": [],
   "source": [
    "from liblibra_core import *\n",
    "from libra_py import *\n",
    "import os\n",
    "import sys\n",
    "import time\n",
    "import numpy as np\n",
    "import matplotlib.pyplot as plt"
   ]
  },
  {
   "cell_type": "markdown",
   "metadata": {},
   "source": [
    "## 2. Overview of required files <a name=\"required_files\"></a>\n",
    "[Return to Table of contents](#toc)"
   ]
  },
  {
   "cell_type": "markdown",
   "metadata": {},
   "source": [
    "The following files are needed to run the Step 2 calculations\n",
    "List of needed files\n",
    "* `x0.scf.in` \n",
    "* `x0.exp.in`\n",
    "* `x0.md.out`\n",
    "* `submit_templ.slm`\n",
    "* `run_step2.py`\n",
    "\n",
    "Below, we list a brief summary of each file, along with a few helpful hints that may help avoid some of the most common types of errors:\n",
    "\n",
    "* `x0.scf.in` \n",
    "\n",
    "Input file for the pw.x program. Make sure that the variable “prefix” in the &CONTROL namelist of this file is set to “x0”. Make sure that the ATOMIC_POSITIONS card is complete deleted. The last declared card in your input file should be CELL_PARAMETERS.\n",
    "\n",
    "* `x0.exp.in`\n",
    "\n",
    "Input file for the wavefunction export program. Make sure that the variable “prefix” is set to “x0”. Also make sure the pseudopotentials match exactly what is declared in the x0.scf.in file. \n",
    "\n",
    "* `x0.md.out`\n",
    "\n",
    "Output from the molecular dynamics calculation using Quantum Espresso. Alternatively, this could be any .xyz input file. \n",
    "\n",
    "* `submit_templ.slm`\n",
    "\n",
    "SLURM-style submit file used for running the step2 calculations. This file does not need to be a SLURM file, however. The indexing of the bands in this file starts from 1. Set “nac_method = 0” for spin-unpolarized calculations, “nac_method = 1” for spin-polarized, and “nac_method = 2” for spin-non-colinear. Be sure to set the path to the res directory to the directory which has this file in it. \n",
    "\n",
    "* `run_step2.py`\n",
    "\n",
    "This file contains calls to functions that parse your molecular dynamics output file into various independent jobs. Here, if you your output from the molecular dynamics calculation is an .xyz file, use the function “QE_methods.xyz2inp(…)”. Otherwise, use the function “QE_methods. out2inp(…)”. In both functions, the first argument must be the name of the molecular dynamics output file. \n"
   ]
  },
  {
   "cell_type": "markdown",
   "metadata": {},
   "source": [
    "## 3. Adjustments to required files <a name=\"adjustments\"></a>\n",
    "[Return to Table of contents](#toc)\n",
    "\n",
    "In order to construct the vibronic Hamiltonian from the QE MD calculations, we must first make sure that we have all of the required input files. After reading the previous section of the overview of the required files, we now will create them from scratch. "
   ]
  },
  {
   "cell_type": "markdown",
   "metadata": {},
   "source": [
    "### 3.1. x0.scf.in <a name=\"pw_inp\"></a>\n",
    "[Return to Table of contents](#toc)\n",
    "\n",
    "Please see the tutorital for [step1 with Quantum Espresso](../2_step1_qe) for an overview of the parameters for this file . Also, for a complete description, please see the quantum espresso [pw.x input description](https://www.quantum-espresso.org/Doc/INPUT_PW.html). The pseudopotentials used herein can be found by visitin the quantum espresso [pseudopotential table](https://www.quantum-espresso.org/pseudopotentials).\n",
    "\n",
    "The user will most likely need to change the following:\n",
    "* Change the variable `pseudo_dir` to be the location where your pseudopotentials are located\n",
    "* Change the pseudopotentials for Ti and O to be the pseudopotentials you have chosen to use\n",
    "\n",
    "Overall, it is advised that nothing more be changed"
   ]
  },
  {
   "cell_type": "code",
   "execution_count": 83,
   "metadata": {},
   "outputs": [],
   "source": [
    "scf_inp = \\\n",
    "\"\"\"&CONTROL\n",
    "  calculation   = 'scf',\n",
    "  pseudo_dir    = '/util/academic/espresso/6.2.1/pseudopotentials/upf_files/',\n",
    "  outdir        = './',\n",
    "  prefix        = 'x0',\n",
    "  disk_io       = 'low',\n",
    "/\n",
    "\n",
    "&SYSTEM\n",
    "  ibrav       = 0,\n",
    "  nat         = 25,\n",
    "  ntyp        = 4,\n",
    "  nspin       = 1,\n",
    "  nbnd        = 100\n",
    "  ecutwfc     = 30,\n",
    "  ecutrho     = 300,\n",
    "  occupations = 'smearing',\n",
    "  smearing    = 'gaussian',\n",
    "  degauss     = 0.01,\n",
    "  nosym       = true,\n",
    "/\n",
    "\n",
    "&ELECTRONS\n",
    "  electron_maxstep = 300,\n",
    "  conv_thr         = 1.D-4,\n",
    "  mixing_beta      = 0.30,\n",
    "/\n",
    "\n",
    "ATOMIC_SPECIES\n",
    "C  12.010     C.pbe-n-rrkjus_psl.0.1.UPF \n",
    "H  1.007      H.pbe-rrkjus_psl.0.1.UPF \n",
    "Ir 192.217    Ir.pbe-n-rrkjus_psl.0.2.3.UPF\n",
    "N  14.006     N.pbe-n-rrkjus_psl.0.1.UPF\n",
    "\n",
    "K_POINTS gamma\n",
    "\n",
    "CELL_PARAMETERS  angstrom\n",
    "        7.0652699470        0.0000000000         0.0000000000\n",
    "        0.0000000000        7.0652699470         0.0000000000\n",
    "        0.0000000000        0.0000000000         7.0652699470 \n",
    "\n",
    "\"\"\""
   ]
  },
  {
   "cell_type": "markdown",
   "metadata": {},
   "source": [
    "### 3.2. x0.exp.in <a name=\"exp_inp\"></a>\n",
    "[Return to Table of contents](#toc)\n",
    "\n",
    "Input file for the pw_export package within the Quantum Espresso suite. For a more complete description, please see the quantum espresso [pw_export.x input description](https://www.quantum-espresso.org/Doc/INPUT_pw_export.html).\n",
    "\n",
    "Similar to the case of section [3.1. x0.scf.in](#pw_inp), the user will most likely need to change the following:\n",
    "* Change the variable `pseudo_dir` to be the location where your pseudopotentials are located\n",
    "* Change the pseudopotentials for Ti and O to be the pseudopotentials you have chosen to use\n",
    "\n",
    "Overall, it is advised that nothing more be changed"
   ]
  },
  {
   "cell_type": "code",
   "execution_count": 84,
   "metadata": {},
   "outputs": [],
   "source": [
    "exp_inp = \\\n",
    "\"\"\"&inputpp\n",
    "  prefix      = 'x0',\n",
    "  outdir      = './',\n",
    "  pseudo_dir  = '/util/academic/espresso/6.2.1/pseudopotentials/upf_files',\n",
    "  psfile(1) =  C.pbe-n-rrkjus_psl.0.1.UPF \n",
    "  psfile(2) =  H.pbe-rrkjus_psl.0.1.UPF\n",
    "  psfile(3) =  Ir.pbe-n-rrkjus_psl.0.2.3.UPF\n",
    "  psfile(4) =  N.pbe-n-rrkjus_psl.0.1.UPF\n",
    "  single_file = .FALSE.,\n",
    "  ascii       = .TRUE.,\n",
    "  uspp_spsi   = .FALSE.,\n",
    "/\n",
    "\"\"\""
   ]
  },
  {
   "cell_type": "markdown",
   "metadata": {},
   "source": [
    "### 3.3. submit_templ.slm <a name=\"submit\"></a>\n",
    "[Return to Table of contents](#toc)\n",
    "\n",
    "The submit file in the SLURM enviornment for computing the vibronic Hamiltonian.\n",
    "\n",
    "* `BATCH_SYSTEM` - option for parallel execution of the SCF calculations\n",
    "* `NP` - number of cores for each SCF calculations\n",
    "* `EXE , EXE_EXPORT , EXE_CONVERT` - executables for the various sub-packages in the Quantum Espresso suite\n",
    "* `start_indx` - starting time index of a particular batch of SCF calculations\n",
    "* `stop_indx` - ending time index of a particular batch of SCF calculations\n",
    "* `wd` - working directory to store the the files generated by each sub-package in the Quantum Espresso suite\n",
    "* `rd` - results directory to store the outputs, such as the vibronic Hamiltonian, overlap matricies, etc.\n",
    "* `dt` - nuclear integration time step of the molecular dynamics\n",
    "* `minband` - index of the lowest  eigenvalue to be considered in the vibronic Hamiltonian for non spin-orbit couping case\n",
    "* `maxband` - index of the highest eigenvalue to be considered in the vibronic Hamiltonian for non spin-orbit couping case\n",
    "* `minband_soc` - index of the lowest eigenvalue to be considered in the vibronic Hamiltonian for spin-orbit couping case\n",
    "* `maxband_soc` - index of the highest eigenvalue to be considered in the vibronic Hamiltonian for spin-orbit couping case\n",
    "* `nac_method` - 0 for spin-restricted, 1 for spin-unrestricted, 2 for spin-non-colinear\n",
    "* `orthogonalize` - 1 to orthoganlize the wavefunctions. otherwise 0\n",
    "* `prefix0` - prefix of the pw.x and pw_export.x input and output files\n",
    "* `compute_Hprime` - option to compute transition dipole matricies. Currently under development, set to 0 for now \n",
    "* `verbosity` - set to 1 to include addition output\n",
    "\n",
    "Because we are using a Jupyter Notebook, there are a few extra things we must do. We must include \"--export=All\" when setting the variable NPROCS in bash as well as for the \"batch_system\" parameter. Also, we include two backslashes \"\\\\\" when defining the parameters dictionary. \n",
    "\n",
    "The user will most likely need to change the following:\n",
    "* Change the variable `--mail-user=` to be the email of the user\n",
    "* Change the version of Quantum Espresso to be the current version you are using when loading the module, this is seen in `module load espresso/6.2.1`\n",
    "* Change the variable `NP` to be the number of CPU cores you are using. In this case, it is equal to `#SBATCH --ntasks-per-node`\n",
    "\n",
    "Overall, it is advised that nothing more be changed\n",
    "<a name=\"step2_run\"></a>"
   ]
  },
  {
   "cell_type": "code",
   "execution_count": 85,
   "metadata": {},
   "outputs": [],
   "source": [
    "submit_inp = \\\n",
    "\"\"\"#!/bin/sh\n",
    "#SBATCH --partition=valhalla --qos=valhalla\n",
    "#SBATCH --cluster=faculty\n",
    "###SBATCH --partition=scavenger --qos=scavenger\n",
    "###SBATCH --cluster=faculty\n",
    "###SBATCH --requeue\n",
    "#SBATCH --time=6:00:00\n",
    "#SBATCH --nodes=1\n",
    "#SBATCH --ntasks-per-node=12\n",
    "#SBATCH --mem=20000\n",
    "#SBATCH --mail-user=bsmith24@buffalo.edu\n",
    "\n",
    "echo \"SLURM_JOBID=\"$SLURM_JOBID\n",
    "echo \"SLURM_JOB_NODELIST=\"$SLURM_JOB_NODELIST\n",
    "echo \"SLURM_NNODES=\"$SLURM_NNODES\n",
    "echo \"SLURMTMPDIR=\"$SLURMTMPDIR\n",
    "echo \"working directory=\"$SLURM_SUBMIT_DIR\n",
    "\n",
    "NPROCS=`srun --export=ALL --nodes=${SLURM_NNODES} bash -c 'hostname' |wc -l`\n",
    "echo NPROCS=$NPROCS\n",
    "\n",
    "module load espresso/6.2.1\n",
    "\n",
    "#The PMI library is necessary for srun\n",
    "export I_MPI_PMI_LIBRARY=/usr/lib64/libpmi.so\n",
    "\n",
    "# Setup all manual parameters here\n",
    "# Must be ABSOLUTE paths\n",
    "NP=12\n",
    "exe_qespresso=/util/academic/espresso/6.2.1/bin/pw.x\n",
    "exe_export=/util/academic/espresso/6.2.1/bin/pw_export.x\n",
    "exe_convert=/util/academic/espresso/6.2.1/bin/iotk\n",
    "batch_system=\"srun --export=All\"\n",
    "res=$PWD/../../res\n",
    "\n",
    "# These will be assigned automatically, leave them as they are\n",
    "param1=\n",
    "param2=\n",
    "\n",
    "# This is invocation of the scripts which will further handle NA-MD calclculations\n",
    "# on the NAC calculation step\n",
    "# NOTE: minband - starting from 1\n",
    "#       maxband - is included\n",
    "\n",
    "python -c \"from libra_py.workflows.nbra import step2\n",
    "params = { }\n",
    "params[\\\\\"BATCH_SYSTEM\\\\\"]=\\\\\"$batch_system\\\\\"\n",
    "params[\\\\\"NP\\\\\"]=$NP\n",
    "params[\\\\\"EXE\\\\\"]=\\\\\"$exe_qespresso\\\\\"\n",
    "params[\\\\\"EXE_EXPORT\\\\\"]=\\\\\"$exe_export\\\\\"\n",
    "params[\\\\\"EXE_CONVERT\\\\\"] =\\\\\"$exe_convert\\\\\"\n",
    "params[\\\\\"start_indx\\\\\"]=\\\\\"$param1\\\\\"\n",
    "params[\\\\\"stop_indx\\\\\"]=\\\\\"$param2\\\\\"\n",
    "params[\\\\\"wd\\\\\"]=\\\\\"wd\\\\\"\n",
    "params[\\\\\"rd\\\\\"]=\\\\\"$res\\\\\"\n",
    "params[\\\\\"dt\\\\\"]=41.34145\n",
    "params[\\\\\"minband\\\\\"]=70\n",
    "params[\\\\\"maxband\\\\\"]=100\n",
    "params[\\\\\"minband_soc\\\\\"]=70\n",
    "params[\\\\\"maxband_soc\\\\\"]=100\n",
    "params[\\\\\"nac_method\\\\\"]=0\n",
    "params[\\\\\"orthogonalize\\\\\"]=1\n",
    "params[\\\\\"prefix0\\\\\"]=\\\\\"x0.scf\\\\\"\n",
    "params[\\\\\"compute_Hprime\\\\\"]=0\n",
    "params[\\\\\"verbosity\\\\\"]=1\n",
    "print( params )\n",
    "step2.run(params)\n",
    "\"\n",
    "\"\"\"\n"
   ]
  },
  {
   "cell_type": "markdown",
   "metadata": {},
   "source": [
    "### 3.4. run_step2.py <a name=\"run_step2\"></a>\n",
    "[Return to Table of contents](#toc)\n",
    "\n",
    "This script is the driver script for the dynamics. The functions called herein distribute the job batches into their respective folders and submit the jobs for computation\n",
    "\n",
    "* `tot_nsteps` - total number of molecular dynamics timesteps to consider\n",
    "* `nsteps_per_job` - how many molecular dynamics timesteps to consider per job batch \n",
    "* `QE_methods.out2inp` - appends the atomic positions from the molecular dynamics output to each SCF inputfile\n",
    "* `hpc_utils.distribute` - distributes the each batch of jobs to their respective working directories, submits the jobs\n",
    "\n",
    "It is advised that nothing more be changed in this script\n",
    "<a name=\"out2inp\"></a>\n",
    "<a name=\"distribute\"></a>"
   ]
  },
  {
   "cell_type": "code",
   "execution_count": 86,
   "metadata": {},
   "outputs": [],
   "source": [
    "run_step2_inp = \\\n",
    "\"\"\"import os\n",
    "import sys\n",
    "import time\n",
    "import math\n",
    "\n",
    "# Fisrt, we add the location of the library to test to the PYTHON path\n",
    "if sys.platform==\"cygwin\":\n",
    "    from cyglibra_core import *\n",
    "elif sys.platform==\"linux\" or sys.platform==\"linux2\":\n",
    "    from liblibra_core import *\n",
    "\n",
    "from libra_py import *\n",
    "\n",
    "# Remove the previous results and temporary working directory from the previous runs\n",
    "os.system(\"rm -r res\")\n",
    "os.system(\"rm -r wd\")\n",
    "os.system(\"mkdir res\")\n",
    "\n",
    "tot_nsteps     = 100\n",
    "nsteps_per_job = 10\n",
    "# tot_nsteps = total simulation time (from 0!)\n",
    "# tot_nsteps / nsteps_per_job = total number of jobs submitted\n",
    "\n",
    "# For non-SOC\n",
    "QE_methods.out2inp(\"x0.md.out\",\"x0.scf.in\",\"wd\",\"x0.scf\",0,tot_nsteps,1)\n",
    "os.system(\"cp submit_templ.slm wd\"); os.system(\"cp x0.exp.in wd\"); os.chdir(\"wd\")\n",
    "hpc_utils.distribute(0,tot_nsteps,nsteps_per_job,\"submit_templ.slm\",[\"x0.exp.in\"],[\"x0.scf\"],2)\n",
    "\n",
    "#For SOC\n",
    "#QE_methods.out2inp(\"x0.md.out\",\"x1.scf.in\",\"wd\",\"x1.scf\",0,tot_nsteps,1)\n",
    "#os.system(\"cp submit_templ.slm wd\"); os.system(\"cp x1.exp.in wd\"); os.chdir(\"wd\")\n",
    "#hpc_utils.distribute(0,tot_nsteps,nsteps_per_job,\"submit_templ.slm\",[\"x1.exp.in\"],[\"x1.scf\"],2)\n",
    "\"\"\""
   ]
  },
  {
   "cell_type": "markdown",
   "metadata": {},
   "source": [
    "Generate the required files by writing them"
   ]
  },
  {
   "cell_type": "code",
   "execution_count": 87,
   "metadata": {},
   "outputs": [],
   "source": [
    "#!cp ../../step1/x0.md.out .\n",
    "f = open(\"x0.scf.in\",\"w\")\n",
    "f.write(scf_inp)\n",
    "f.close()\n",
    "f = open(\"x0.exp.in\",\"w\"); f.write(exp_inp); f.close()\n",
    "f = open(\"submit_templ.slm\",\"w\"); f.write(submit_inp); f.close()\n",
    "f = open(\"run_step2.py\",\"w\"); f.write(run_step2_inp); f.close()"
   ]
  },
  {
   "cell_type": "markdown",
   "metadata": {},
   "source": [
    "## 4. Run step2 using Quantum Espresso <a name=\"driver\"></a>\n",
    "[Return to Table of contents](#toc)"
   ]
  },
  {
   "cell_type": "code",
   "execution_count": 88,
   "metadata": {},
   "outputs": [
    {
     "name": "stdout",
     "output_type": "stream",
     "text": [
      "/projects/academic/cyberwksp21/Software/Conda/Miniconda3/envs/libra/lib/python3.6/importlib/_bootstrap.py:219: RuntimeWarning: to-Python converter for std::vector<std::vector<int, std::allocator<int> >, std::allocator<std::vector<int, std::allocator<int> > > > already registered; second conversion method ignored.\n",
      "  return f(*args, **kwds)\n",
      "/projects/academic/cyberwksp21/Software/Conda/Miniconda3/envs/libra/lib/python3.6/importlib/_bootstrap.py:219: RuntimeWarning: to-Python converter for boost::python::detail::container_element<std::vector<std::vector<int, std::allocator<int> >, std::allocator<std::vector<int, std::allocator<int> > > >, unsigned long, boost::python::detail::final_vector_derived_policies<std::vector<std::vector<int, std::allocator<int> >, std::allocator<std::vector<int, std::allocator<int> > > >, false> > already registered; second conversion method ignored.\n",
      "  return f(*args, **kwds)\n",
      "/projects/academic/cyberwksp21/Software/Conda/Miniconda3/envs/libra/lib/python3.6/importlib/_bootstrap.py:219: RuntimeWarning: to-Python converter for std::vector<std::vector<float, std::allocator<float> >, std::allocator<std::vector<float, std::allocator<float> > > > already registered; second conversion method ignored.\n",
      "  return f(*args, **kwds)\n",
      "/projects/academic/cyberwksp21/Software/Conda/Miniconda3/envs/libra/lib/python3.6/importlib/_bootstrap.py:219: RuntimeWarning: to-Python converter for boost::python::detail::container_element<std::vector<std::vector<float, std::allocator<float> >, std::allocator<std::vector<float, std::allocator<float> > > >, unsigned long, boost::python::detail::final_vector_derived_policies<std::vector<std::vector<float, std::allocator<float> >, std::allocator<std::vector<float, std::allocator<float> > > >, false> > already registered; second conversion method ignored.\n",
      "  return f(*args, **kwds)\n",
      "/projects/academic/cyberwksp21/Software/Conda/Miniconda3/envs/libra/lib/python3.6/importlib/_bootstrap.py:219: RuntimeWarning: to-Python converter for std::vector<std::vector<double, std::allocator<double> >, std::allocator<std::vector<double, std::allocator<double> > > > already registered; second conversion method ignored.\n",
      "  return f(*args, **kwds)\n",
      "/projects/academic/cyberwksp21/Software/Conda/Miniconda3/envs/libra/lib/python3.6/importlib/_bootstrap.py:219: RuntimeWarning: to-Python converter for boost::python::detail::container_element<std::vector<std::vector<double, std::allocator<double> >, std::allocator<std::vector<double, std::allocator<double> > > >, unsigned long, boost::python::detail::final_vector_derived_policies<std::vector<std::vector<double, std::allocator<double> >, std::allocator<std::vector<double, std::allocator<double> > > >, false> > already registered; second conversion method ignored.\n",
      "  return f(*args, **kwds)\n",
      "/projects/academic/cyberwksp21/Software/Conda/Miniconda3/envs/libra/lib/python3.6/importlib/_bootstrap.py:219: RuntimeWarning: to-Python converter for std::vector<std::vector<std::complex<double>, std::allocator<std::complex<double> > >, std::allocator<std::vector<std::complex<double>, std::allocator<std::complex<double> > > > > already registered; second conversion method ignored.\n",
      "  return f(*args, **kwds)\n",
      "/projects/academic/cyberwksp21/Software/Conda/Miniconda3/envs/libra/lib/python3.6/importlib/_bootstrap.py:219: RuntimeWarning: to-Python converter for boost::python::detail::container_element<std::vector<std::vector<std::complex<double>, std::allocator<std::complex<double> > >, std::allocator<std::vector<std::complex<double>, std::allocator<std::complex<double> > > > >, unsigned long, boost::python::detail::final_vector_derived_policies<std::vector<std::vector<std::complex<double>, std::allocator<std::complex<double> > >, std::allocator<std::vector<std::complex<double>, std::allocator<std::complex<double> > > > >, false> > already registered; second conversion method ignored.\n",
      "  return f(*args, **kwds)\n",
      "Submitted batch job 6628600 on cluster faculty\n",
      "Submitted batch job 6628601 on cluster faculty\n",
      "Submitted batch job 6628602 on cluster faculty\n",
      "Submitted batch job 6628603 on cluster faculty\n",
      "Submitted batch job 6628604 on cluster faculty\n",
      "Submitted batch job 6628605 on cluster faculty\n",
      "Submitted batch job 6628606 on cluster faculty\n",
      "Submitted batch job 6628607 on cluster faculty\n",
      "Submitted batch job 6628608 on cluster faculty\n",
      "Submitted batch job 6628609 on cluster faculty\n"
     ]
    }
   ],
   "source": [
    "!python run_step2.py"
   ]
  },
  {
   "cell_type": "markdown",
   "metadata": {},
   "source": [
    "## 5. Plotting step2 data<a name=\"plot_step2_data\"></a>\n",
    "[Return to Table of contents](#toc)\n",
    "\n",
    "Before running this section, be sure that the step2 calculations have completely finished. It may take a few minutes to complete. "
   ]
  },
  {
   "cell_type": "markdown",
   "metadata": {},
   "source": [
    "### 5.1. Read step2 data <a name=\"extract_step2\"></a>\n",
    "[Return to Table of contents](#toc)\n",
    "\n",
    "We now extract the data needed to plot the time-dependent kohn-sham energies and the time-averaged nonadiabatic ouplings between them. To begin, we first need to read the data (that is, read the vibronic Hamiltonian matrix files). To do this, we will utilize Libra's `data_read` module. Specifically, we will be using the `get_data_sets` function within this module. For a more complete tutorial on using Libra's `data_read` module, please see the [tutorial for Libra's data_read module](https://github.com/compchem-cybertraining/Tutorials_Libra/issues/7) \n",
    "<a name=\"data_read\"></a>"
   ]
  },
  {
   "cell_type": "code",
   "execution_count": 77,
   "metadata": {},
   "outputs": [
    {
     "name": "stdout",
     "output_type": "stream",
     "text": [
      "\n",
      "Gathering the data ...\n",
      "Complete\n",
      "Time to complete:  0.28029918670654297\n"
     ]
    }
   ],
   "source": [
    "import os\n",
    "cwd = os.getcwd()\n",
    "num_alpha_ks_orbs =     ##############################################\n",
    "data_dim    = 2*num_alpha_ks_orbs\n",
    "act_sp      = range(data_dim)\n",
    "res_dir     = cwd+\"/res/\"\n",
    "dt          = 1.0*units.fs2au\n",
    "start_time  = 0\n",
    "finish_time = 99\n",
    "params = { \"data_set_paths\" : [res_dir],\n",
    "           \"active_space\":act_sp,  \"dt\":dt, \"data_dim\":data_dim,\n",
    "           \"isnap\":start_time,  \"fsnap\":finish_time,\n",
    "           \"data_re_prefix\" : \"hvib_dia_\", \"data_re_suffix\" : \"_re\",\n",
    "           \"data_im_prefix\" : \"hvib_dia_\", \"data_im_suffix\" : \"_im\",\n",
    "         }\n",
    "\n",
    "print (\"\\nGathering the data ...\")\n",
    "start = time.time()\n",
    "Hvib_ks = data_read.get_data_sets(params)\n",
    "end = time.time()\n",
    "print (\"Complete\")\n",
    "print (\"Time to complete: \", end - start)"
   ]
  },
  {
   "cell_type": "markdown",
   "metadata": {},
   "source": [
    "Now that we have read the vibronic Hamiltonian matrix files, we must compute the time-averaged nonadiabatic couplings for each pair of nonadiabatic couplings. We can do this using Libra's `data_stat` module. Specifically, we will be using the `cmat_stat2` function within this module. For a more complete tutorial on using Libra's `data_stat` module, please see the [tutorial for Libra's data_stat module](https://github.com/compchem-cybertraining/Tutorials_Libra/issues/8) \n",
    "\n",
    "<a name=\"data_stat\"></a>"
   ]
  },
  {
   "cell_type": "code",
   "execution_count": 78,
   "metadata": {},
   "outputs": [],
   "source": [
    "ntraj  = len(Hvib_ks)\n",
    "nsteps = len(Hvib_ks[0])\n",
    "ks_res = data_stat.cmat_stat2(Hvib_ks[0], 2)"
   ]
  },
  {
   "cell_type": "markdown",
   "metadata": {},
   "source": [
    "Now, let's make the lists of the data needed for plotting with matplotlib"
   ]
  },
  {
   "cell_type": "code",
   "execution_count": 79,
   "metadata": {},
   "outputs": [],
   "source": [
    "ks_tNACs = []\n",
    "ks_orbs_to_print = range(int(data_dim/2))\n",
    "#ks_orbs_to_print = range(int(data_dim/2), data_dim)\n",
    "#ks_orbs_to_print = range(data_dim)\n",
    "md_time = list(range(nsteps))\n",
    "\n",
    "KS_energy = []\n",
    "for ks_index in range( num_alpha_ks_orbs ):\n",
    "    KS_energy.append( [] )\n",
    "    for step in range( nsteps ):\n",
    "        #print( Hvib_ks[ 0 ][ step ].get( ks_index, ks_index ).real )\n",
    "        KS_energy[ ks_index ].append( Hvib_ks[ 0 ][ step ].get( ks_index, ks_index ).real )\n",
    "        \n",
    "for i in ks_orbs_to_print:\n",
    "    ks_tNACs.append( [] )\n",
    "    for j in ks_orbs_to_print:\n",
    "        ks_tNACs[i].append( ks_res.get(i,j).imag * 1000.0 / units.ev2Ha )"
   ]
  },
  {
   "cell_type": "markdown",
   "metadata": {},
   "source": [
    "### 5.2. Plot step2 data <a name=\"plot_step2\"></a>\n",
    "[Return to Table of contents](#toc)\n",
    "\n",
    "We now will plot the time-dependent kohn-sham energies and the time-averaged nonadiabatic ouplings between them"
   ]
  },
  {
   "cell_type": "code",
   "execution_count": 80,
   "metadata": {},
   "outputs": [
    {
     "data": {
      "image/png": "[encoded data removed]",
      "text/plain": [
       "<Figure size 1926x723 with 3 Axes>"
      ]
     },
     "metadata": {
      "needs_background": "light"
     },
     "output_type": "display_data"
    }
   ],
   "source": [
    "KS_energy = np.array( KS_energy  )\n",
    "ks_tNACs  = np.array(ks_tNACs)\n",
    "plt.figure(num=None, figsize=(6.42, 2.41), dpi=300, edgecolor='black', frameon=True)\n",
    "plt.subplot(1,2,1)\n",
    "plt.title('Time-Dependent KS Energies', fontsize=8)\n",
    "plt.xlabel('Time, fs')\n",
    "plt.ylabel('Energy, eV ')\n",
    "for ks_index in ks_orbs_to_print:\n",
    "    if ks_index == 1:\n",
    "        plt.plot(md_time, KS_energy[ks_index]/units.ev2Ha, label=\"VBM\", linewidth=1, color = \"blue\")\n",
    "    elif ks_index == 2:\n",
    "        plt.plot(md_time, KS_energy[ks_index]/units.ev2Ha, label=\"CBM\", linewidth=1, color = \"red\")\n",
    "    else:\n",
    "        plt.plot(md_time, KS_energy[ks_index]/units.ev2Ha, label=\"\", linewidth=1, color = \"black\")\n",
    "plt.legend(fontsize=8)\n",
    "plt.tight_layout()\n",
    "\n",
    "plt.subplot(1,2,2)\n",
    "plt.title('KS Time-Averaged NACs', fontsize=8)\n",
    "plt.xticks(fontsize=8)\n",
    "plt.yticks(fontsize=8)\n",
    "plt.xlim(0,num_alpha_ks_orbs-1)\n",
    "plt.ylim(0,num_alpha_ks_orbs-1)\n",
    "plt.xticks([0,1,2,3,4,5,6,7,8,9])\n",
    "plt.yticks([0,1,2,3,4,5,6,7,8,9])\n",
    "plt.imshow(ks_tNACs, cmap='hot', interpolation='nearest')\n",
    "cb = plt.colorbar(label=\"meV\")\n",
    "cb.ax.tick_params(labelsize=8)\n",
    "plt.tight_layout()\n",
    "plt.show()"
   ]
  },
  {
   "cell_type": "markdown",
   "metadata": {},
   "source": [
    "## References<a name=\"references\"></a>\n",
    "[Return to Table of contents](#toc)\n",
    "\n",
    "1. Hammes‐Schiffer, S.; Tully, J. C. Proton Transfer in Solution: Molecular Dynamics with Quantum Transitions. J. Chem. Phys. 1994, 101 (6), 4657–4667."
   ]
  }
 ],
 "metadata": {
  "kernelspec": {
   "display_name": "Python 3.6 (libra-latest)",
   "language": "python",
   "name": "libra-plus"
  },
  "language_info": {
   "codemirror_mode": {
    "name": "ipython",
    "version": 3
   },
   "file_extension": ".py",
   "mimetype": "text/x-python",
   "name": "python",
   "nbconvert_exporter": "python",
   "pygments_lexer": "ipython3",
   "version": "3.6.13"
  }
 },
 "nbformat": 4,
 "nbformat_minor": 2
}
