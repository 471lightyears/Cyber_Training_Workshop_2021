{
 "cells": [
  {
   "cell_type": "code",
   "execution_count": 1,
   "id": "6960c827",
   "metadata": {},
   "outputs": [],
   "source": [
    "import h5py"
   ]
  },
  {
   "cell_type": "code",
   "execution_count": 2,
   "id": "f0be8c8a",
   "metadata": {},
   "outputs": [],
   "source": [
    "f = h5py.File('iridium-1.hdf5','r')"
   ]
  },
  {
   "cell_type": "code",
   "execution_count": 3,
   "id": "2f970250",
   "metadata": {},
   "outputs": [
    {
     "data": {
      "text/plain": [
       "<KeysViewHDF5 ['coefficients', 'cp2k', 'eigenvalues']>"
      ]
     },
     "execution_count": 3,
     "metadata": {},
     "output_type": "execute_result"
    }
   ],
   "source": [
    "f.keys()"
   ]
  },
  {
   "cell_type": "code",
   "execution_count": 4,
   "id": "ebe4565e",
   "metadata": {},
   "outputs": [],
   "source": [
    "e_ao = f['eigenvalues/point_0'][()]"
   ]
  },
  {
   "cell_type": "code",
   "execution_count": 5,
   "id": "21f9cee3",
   "metadata": {},
   "outputs": [
    {
     "data": {
      "text/plain": [
       "(164,)"
      ]
     },
     "execution_count": 5,
     "metadata": {},
     "output_type": "execute_result"
    }
   ],
   "source": [
    "e_ao.shape"
   ]
  },
  {
   "cell_type": "code",
   "execution_count": 6,
   "id": "45e4a26c",
   "metadata": {},
   "outputs": [
    {
     "data": {
      "text/plain": [
       "array([-3.5000806 , -1.9699042 , -1.9699011 , -1.9592807 , -0.8316216 ,\n",
       "       -0.8271459 , -0.8271146 , -0.6721817 , -0.67125475, -0.6712311 ,\n",
       "       -0.56575114, -0.55196095, -0.5519368 , -0.4779195 , -0.47389194,\n",
       "       -0.47386122, -0.4529325 , -0.45290974, -0.45103312, -0.3876694 ,\n",
       "       -0.37180194, -0.37178117, -0.3482854 , -0.34218416, -0.3421812 ,\n",
       "       -0.32533377, -0.32531694, -0.3106164 , -0.30441913, -0.3044081 ,\n",
       "       -0.29647014, -0.23938149, -0.23937389, -0.22977495, -0.22604555,\n",
       "       -0.21342312, -0.213411  , -0.16862807, -0.16861674, -0.15073945,\n",
       "       -0.06662524, -0.05316046, -0.05314437,  0.05393131,  0.05393454,\n",
       "        0.05908561,  0.06511007,  0.06513137,  0.09173349,  0.10795768,\n",
       "        0.1079971 ,  0.14350103,  0.16837193,  0.16840136,  0.1729924 ,\n",
       "        0.18681374,  0.18685019,  0.19622003,  0.21622238,  0.2162574 ,\n",
       "        0.23045383,  0.2533225 ,  0.25343686,  0.25344968,  0.27690092,\n",
       "        0.2818675 ,  0.28188598,  0.29313922,  0.2965982 ,  0.29660934,\n",
       "        0.29953846,  0.30789176,  0.30789804,  0.32148877,  0.35481295,\n",
       "        0.35482544,  0.38151178,  0.38152325,  0.388356  ,  0.42038634,\n",
       "        0.42040396,  0.4276641 ,  0.43692687,  0.43694136,  0.46249723,\n",
       "        0.4625094 ,  0.46514753,  0.4925598 ,  0.5042006 ,  0.5065568 ,\n",
       "        0.5065803 ,  0.53848773,  0.53849393,  0.5489758 ,  0.5889453 ,\n",
       "        0.60915893,  0.6091724 ,  0.6227256 ,  0.62513626,  0.6543858 ,\n",
       "        0.6544041 ,  0.6851178 ,  0.68514097,  0.68725103,  0.72873396,\n",
       "        0.7355534 ,  0.7355689 ,  0.770196  ,  0.7702222 ,  0.7720389 ,\n",
       "        0.82474566,  0.824757  ,  0.8259911 ,  0.8449075 ,  0.8449503 ,\n",
       "        0.84540135,  0.88803685,  0.8988783 ,  0.8994819 ,  0.89950705,\n",
       "        0.9359121 ,  0.9359149 ,  0.        ,  0.        ,  0.        ,\n",
       "        0.        ,  0.        ,  0.        ,  0.        ,  0.        ,\n",
       "        0.        ,  0.        ,  0.        ,  0.        ,  0.        ,\n",
       "        0.        ,  0.        ,  0.        ,  0.        ,  0.        ,\n",
       "        0.        ,  0.        ,  0.        ,  0.        ,  0.        ,\n",
       "        0.        ,  0.        ,  0.        ,  0.        ,  0.        ,\n",
       "        0.        ,  0.        ,  0.        ,  0.        ,  0.        ,\n",
       "        0.        ,  0.        ,  0.        ,  0.        ,  0.        ,\n",
       "        0.        ,  0.        ,  0.        ,  0.        ], dtype=float32)"
      ]
     },
     "execution_count": 6,
     "metadata": {},
     "output_type": "execute_result"
    }
   ],
   "source": [
    "e_ao"
   ]
  },
  {
   "cell_type": "code",
   "execution_count": 8,
   "id": "56501ad6",
   "metadata": {},
   "outputs": [
    {
     "data": {
      "text/plain": [
       "<function ndarray.view>"
      ]
     },
     "execution_count": 8,
     "metadata": {},
     "output_type": "execute_result"
    }
   ],
   "source": []
  },
  {
   "cell_type": "code",
   "execution_count": null,
   "id": "722d53d5",
   "metadata": {},
   "outputs": [],
   "source": [
    "c_ao = f['coefficients/point_0'][()]"
   ]
  },
  {
   "cell_type": "code",
   "execution_count": null,
   "id": "9751ddd9",
   "metadata": {},
   "outputs": [],
   "source": [
    "c_ao.shape"
   ]
  },
  {
   "cell_type": "code",
   "execution_count": null,
   "id": "a0528f7e",
   "metadata": {},
   "outputs": [],
   "source": [
    "c_ao"
   ]
  },
  {
   "cell_type": "code",
   "execution_count": null,
   "id": "f36f8596",
   "metadata": {},
   "outputs": [],
   "source": []
  }
 ],
 "metadata": {
  "kernelspec": {
   "display_name": "Python 3.6 (qmflows)",
   "language": "python",
   "name": "qmflows"
  },
  "language_info": {
   "codemirror_mode": {
    "name": "ipython",
    "version": 3
   },
   "file_extension": ".py",
   "mimetype": "text/x-python",
   "name": "python",
   "nbconvert_exporter": "python",
   "pygments_lexer": "ipython3",
   "version": "3.7.10"
  }
 },
 "nbformat": 4,
 "nbformat_minor": 5
}
